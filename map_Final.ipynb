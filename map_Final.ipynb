{
 "cells": [
  {
   "cell_type": "code",
   "execution_count": 1,
   "metadata": {},
   "outputs": [
    {
     "data": {
      "application/vnd.jupyter.widget-view+json": {
       "model_id": "adf798d3c61f4a99ab371566ea0ea29a",
       "version_major": 2,
       "version_minor": 0
      },
      "text/plain": [
       "Dropdown(description='Station:', layout=Layout(align_self='flex-end', width='35%'), options=('AG1 SENTUL TIMUR…"
      ]
     },
     "metadata": {},
     "output_type": "display_data"
    },
    {
     "data": {
      "application/vnd.jupyter.widget-view+json": {
       "model_id": "620f99ca885b487bbee76a4ff15cfe2a",
       "version_major": 2,
       "version_minor": 0
      },
      "text/plain": [
       "Dropdown(description='Network Type:', index=5, layout=Layout(align_self='flex-end', width='35%'), options=('al…"
      ]
     },
     "metadata": {},
     "output_type": "display_data"
    },
    {
     "data": {
      "application/vnd.jupyter.widget-view+json": {
       "model_id": "0742890c1c5d457dadaa9d8bba06dc30",
       "version_major": 2,
       "version_minor": 0
      },
      "text/plain": [
       "BoundedFloatText(value=5.0, description='Travel time (any positive integer, in min):', layout=Layout(align_sel…"
      ]
     },
     "metadata": {},
     "output_type": "display_data"
    },
    {
     "data": {
      "application/vnd.jupyter.widget-view+json": {
       "model_id": "6399266a56eb4de08856071a8e4f4562",
       "version_major": 2,
       "version_minor": 0
      },
      "text/plain": [
       "Button(description='Run Code', style=ButtonStyle())"
      ]
     },
     "metadata": {},
     "output_type": "display_data"
    },
    {
     "data": {
      "application/vnd.jupyter.widget-view+json": {
       "model_id": "43437eaafdec42418ba29155faf30089",
       "version_major": 2,
       "version_minor": 0
      },
      "text/plain": [
       "Output()"
      ]
     },
     "metadata": {},
     "output_type": "display_data"
    }
   ],
   "source": [
    "import folium\n",
    "import osmnx as ox\n",
    "import io\n",
    "import zipfile\n",
    "import requests\n",
    "import pandas as pd\n",
    "import ipywidgets as widgets\n",
    "from IPython.display import display, clear_output, HTML\n",
    "import warnings\n",
    "\n",
    "# Import the data\n",
    "url = \"https://api.data.gov.my/gtfs-static/prasarana?category=rapid-rail-kl\"\n",
    "resp = requests.get(url, stream=True)\n",
    "resp.raise_for_status()\n",
    "zfile = zipfile.ZipFile(io.BytesIO(resp.content))\n",
    "\n",
    "mydf = pd.read_csv(zfile.open(f'{zfile.namelist()[-2]}'))\n",
    "\n",
    "mydf['Station'] = mydf['stop_id'] + ' ' + mydf['stop_name']\n",
    "station = sorted(mydf['Station'])\n",
    "\n",
    "# Set the walking speed\n",
    "sp_walk = 1.5  # in m/s\n",
    "# Set the cycling speed\n",
    "sp_cycling = 5  # in m/s\n",
    "# Set the driving speed\n",
    "sp_drive = 10  # in m/s\n",
    "\n",
    "# Dropdown for Station\n",
    "dropdown_station = widgets.Dropdown(\n",
    "    options=station,\n",
    "    description='Station:',\n",
    "    style={'description_width': 'initial'},\n",
    "    layout=widgets.Layout(width='35%', align_self='flex-end')\n",
    ")\n",
    "\n",
    "# Dropdown for Network Type\n",
    "dropdown_network = widgets.Dropdown(\n",
    "    options=[\"all_private\", \"all\", \"bike\", \"drive\", \"drive_service\", \"walk\"],\n",
    "    value = 'walk',\n",
    "    description='Network Type:',\n",
    "    style={'description_width': 'initial'},\n",
    "    layout=widgets.Layout(width='35%', align_self='flex-end')\n",
    ")\n",
    "#\"all_private\": This includes all streets, including private ones\n",
    "#'all': This includes all streets that are not explicitly marked as private\n",
    "#\"bike\": This includes bike paths and streets suitable for cycling\n",
    "#\"drive\": This includes all drivable roads, which typically means streets for cars, trucks, and other motor vehicles\n",
    "#\"drive_service\": This includes service roads, typically used for local access to facilities rather than through traffic \n",
    "#\"walk\": This includes all streets and paths suitable for walking\n",
    "\n",
    "# Widget for Travel time\n",
    "widge_time = widgets.BoundedFloatText(\n",
    "    value=5,\n",
    "    min = 1,\n",
    "    step= 1,\n",
    "    description='Travel time (any positive integer, in min):',\n",
    "    style={'description_width': 'initial'},\n",
    "    layout=widgets.Layout(width='35%', align_self='flex-end'),\n",
    "    disabled=False\n",
    ")\n",
    "\n",
    "# Create a button widget\n",
    "run_button = widgets.Button(description=\"Run Code\")\n",
    "\n",
    "# Display the widgets\n",
    "display(dropdown_station, dropdown_network, widge_time, run_button)\n",
    "\n",
    "# Create an HTML container for the map\n",
    "map_output = widgets.Output()\n",
    "\n",
    "# Create a loading progress widget\n",
    "loading_widget = widgets.IntProgress(\n",
    "    value=0,\n",
    "    min=0,\n",
    "    max=1,\n",
    "    step=1,\n",
    "    description='Loading:',\n",
    "    bar_style='info',\n",
    "    style={'description_width': 'initial'},\n",
    "    layout=widgets.Layout(width='30%', align_self='flex-end')\n",
    ")\n",
    "\n",
    "# Function to update loading status\n",
    "def update_loading_status(loading=True):\n",
    "    if loading:\n",
    "        loading_widget.value = 0  # Reset progress bar\n",
    "        display(loading_widget)\n",
    "    else:\n",
    "        loading_widget.value = 1  # Complete progress bar\n",
    "        clear_output(wait=True)\n",
    "        \n",
    "# Function to get station coordinates\n",
    "def get_station_coordinates(selected_station):\n",
    "    station_info = mydf.loc[mydf['Station'] == selected_station]\n",
    "    return station_info['stop_lat'].values[0], station_info['stop_lon'].values[0]\n",
    "\n",
    "# Run button:\n",
    "def run_code(button):\n",
    "    with map_output:\n",
    "        clear_output(wait=True)\n",
    "        \n",
    "        # Display \"Loading\" status\n",
    "        update_loading_status()\n",
    "        \n",
    "        # Obtain the latitude and longitude of the train station\n",
    "        lat, lon = get_station_coordinates(dropdown_station.value)\n",
    "\n",
    "        # Set the distance\n",
    "        if dropdown_network.value in [\"all_private\", \"all\", \"drive\", \"drive_service\"]:\n",
    "            my_dist = widge_time.value * 60 * sp_drive\n",
    "        elif dropdown_network.value == 'walk':\n",
    "            my_dist = widge_time.value * 60 * sp_walk\n",
    "        elif dropdown_network.value == 'bike':\n",
    "            my_dist = widge_time.value * 60 * sp_cycling\n",
    "\n",
    "        # Download/model a street network for the specific station then visualize it\n",
    "        G = ox.graph.graph_from_point((lat, lon), dist=my_dist, dist_type='network', network_type=dropdown_network.value)\n",
    "        ## 'network': actual distance along the street network\n",
    "        ## 'bbox': radius of a bounding box around the central point\n",
    "        #fig, ax = ox.plot_graph(G)\n",
    "\n",
    "        # Create a folium map\n",
    "        mymap = folium.Map(location=[lat, lon], dragging=True, scrollWheelZoom=True)\n",
    "        \n",
    "        # Plot the OpenStreetMap graph on the map\n",
    "        with warnings.catch_warnings():\n",
    "            warnings.simplefilter(\"ignore\")\n",
    "            ox.plot_graph_folium(G, graph_map=mymap, edge_color='blue', edge_width=2)\n",
    "\n",
    "            # Add a CircleMarker to the map\n",
    "            folium.CircleMarker(location=[lat, lon], fill=True, color='orange', radius=9,\n",
    "                                popup='Station: {}'.format(dropdown_station.value)).add_to(mymap)\n",
    "\n",
    "            display(mymap)\n",
    "            \n",
    "        # Complete \"loading\" status after the map is displayed\n",
    "        update_loading_status(False)\n",
    "\n",
    "# Associate the callback function to the button's on_click event\n",
    "run_button.on_click(run_code)\n",
    "\n",
    "# Display the HTML container for the map\n",
    "display(map_output)\n"
   ]
  },
  {
   "cell_type": "code",
   "execution_count": 9,
   "metadata": {},
   "outputs": [
    {
     "name": "stdout",
     "output_type": "stream",
     "text": [
      "The watermark extension is already loaded. To reload it, use:\n",
      "  %reload_ext watermark\n",
      "Python implementation: CPython\n",
      "Python version       : 3.8.5\n",
      "IPython version      : 7.19.0\n",
      "\n",
      "folium    : 0.14.0\n",
      "osmnx     : 1.7.1\n",
      "io        : unknown\n",
      "zipfile   : unknown\n",
      "requests  : 2.31.0\n",
      "pandas    : 1.1.3\n",
      "ipywidgets: 7.5.1\n",
      "IPython   : 7.19.0\n",
      "warnings  : unknown\n",
      "watermark : 2.4.3\n",
      "\n",
      "Compiler    : MSC v.1916 64 bit (AMD64)\n",
      "OS          : Windows\n",
      "Release     : 10\n",
      "Machine     : AMD64\n",
      "Processor   : Intel64 Family 6 Model 142 Stepping 9, GenuineIntel\n",
      "CPU cores   : 4\n",
      "Architecture: 64bit\n",
      "\n",
      " \n",
      "Last updated: Thu Dec 07 2023 14:01:50Malay Peninsula Standard Time\n",
      "\n"
     ]
    }
   ],
   "source": [
    "%load_ext watermark\n",
    "\n",
    "# python, ipython, packages, and machine characteristics\n",
    "%watermark -v -m -p folium,osmnx,io,zipfile,requests,pandas,ipywidgets,IPython,warnings,watermark\n",
    "\n",
    "# date\n",
    "print (\" \")\n",
    "%watermark -u -n -t -z \n",
    "\n"
   ]
  },
  {
   "cell_type": "code",
   "execution_count": null,
   "metadata": {},
   "outputs": [],
   "source": []
  }
 ],
 "metadata": {
  "kernelspec": {
   "display_name": "Python 3",
   "language": "python",
   "name": "python3"
  },
  "language_info": {
   "codemirror_mode": {
    "name": "ipython",
    "version": 3
   },
   "file_extension": ".py",
   "mimetype": "text/x-python",
   "name": "python",
   "nbconvert_exporter": "python",
   "pygments_lexer": "ipython3",
   "version": "3.8.5"
  }
 },
 "nbformat": 4,
 "nbformat_minor": 4
}
